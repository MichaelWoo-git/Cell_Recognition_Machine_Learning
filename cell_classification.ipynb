{
  "nbformat": 4,
  "nbformat_minor": 0,
  "metadata": {
    "colab": {
      "name": "cell_classification.ipynb",
      "provenance": [],
      "machine_shape": "hm",
      "mount_file_id": "https://github.com/MichaelWoo-git/Cell_Recognition_Machine_Learning/blob/main/cell_classification.ipynb",
      "authorship_tag": "ABX9TyN5wjrTokDPj1H/RAyaZimm",
      "include_colab_link": true
    },
    "kernelspec": {
      "name": "python3",
      "display_name": "Python 3"
    },
    "language_info": {
      "name": "python"
    },
    "accelerator": "TPU"
  },
  "cells": [
    {
      "cell_type": "markdown",
      "metadata": {
        "id": "view-in-github",
        "colab_type": "text"
      },
      "source": [
        "<a href=\"https://colab.research.google.com/github/MichaelWoo-git/Cell_Recognition_Machine_Learning/blob/main/cell_classification.ipynb\" target=\"_parent\"><img src=\"https://colab.research.google.com/assets/colab-badge.svg\" alt=\"Open In Colab\"/></a>"
      ]
    },
    {
      "cell_type": "markdown",
      "metadata": {
        "id": "_6P2EfjgpU_7"
      },
      "source": [
        "#Guideline for this Project,\n",
        "\n",
        "1. Top 10% teams worldwide as of midnight May 11, 2021 will get A in this class.\n",
        "2. Feature engineering: create new features from the raw data\n",
        "3. Supervised learning models: Choose 2 supervised learning models from W3, W4, W5\n",
        "4. Advanced models: choose 1 from XGBoost W12 or Neural Network W13 or Deep learning W14 to build your supervised learning models\n",
        "5. Model evaluation: For each of the supervised learning models, evaluate the model using the techniques from W10\n",
        "6. If data size is too big and your model is too slow, feel free to choose small set for your project.\n",
        "7. Your jupyter submission should be in an article quality. Do NOT print huge data set in the notebook. Use head(). Use plotting to visualize your analysis and results. Use markdown to write your comments.\n",
        "8. If you are not in the top 10% teams worldwide, your score is based on completeness on every step.\n",
        "9. Submit in HTML and ipynb format on canvas"
      ]
    },
    {
      "cell_type": "markdown",
      "metadata": {
        "id": "ULh6hco7lA3M"
      },
      "source": [
        "Imports\n"
      ]
    },
    {
      "cell_type": "code",
      "metadata": {
        "id": "z_24dzEWPJww"
      },
      "source": [
        "import numpy as np\n",
        "import pandas as pd"
      ],
      "execution_count": null,
      "outputs": []
    },
    {
      "cell_type": "markdown",
      "metadata": {
        "id": "mW9zXPEYlFfS"
      },
      "source": [
        "Check to see if I have all my files"
      ]
    },
    {
      "cell_type": "code",
      "metadata": {
        "id": "zv2rUut4x90A",
        "colab": {
          "base_uri": "https://localhost:8080/"
        },
        "outputId": "4981d959-97ee-417f-99f7-b6cbfeb518c6"
      },
      "source": [
        "! ls drive/MyDrive/data_files_kaggle/hpa-single-cell-image-classification/train_data/* | wc -l"
      ],
      "execution_count": null,
      "outputs": [
        {
          "output_type": "stream",
          "text": [
            "35760\n"
          ],
          "name": "stdout"
        }
      ]
    },
    {
      "cell_type": "markdown",
      "metadata": {
        "id": "DcJX7dIzlKEL"
      },
      "source": [
        "Would want to do this import ot extract my data"
      ]
    },
    {
      "cell_type": "code",
      "metadata": {
        "id": "q2KLK3tcwXoh"
      },
      "source": [
        "from google.colab import drive"
      ],
      "execution_count": null,
      "outputs": []
    },
    {
      "cell_type": "markdown",
      "metadata": {
        "id": "lKvjhWCclO9N"
      },
      "source": [
        "Read in csv file"
      ]
    },
    {
      "cell_type": "code",
      "metadata": {
        "id": "OHV63E4xQ98E"
      },
      "source": [
        "train_data = pd.read_csv(\"/content/drive/MyDrive/data_files_kaggle/hpa-single-cell-image-classification/train.csv\")"
      ],
      "execution_count": null,
      "outputs": []
    },
    {
      "cell_type": "code",
      "metadata": {
        "colab": {
          "base_uri": "https://localhost:8080/",
          "height": 419
        },
        "id": "9jX5zeG-EE0T",
        "outputId": "8bf8678f-ea80-4cd5-8c2a-bc77c4c95b04"
      },
      "source": [
        "train_data"
      ],
      "execution_count": null,
      "outputs": [
        {
          "output_type": "execute_result",
          "data": {
            "text/html": [
              "<div>\n",
              "<style scoped>\n",
              "    .dataframe tbody tr th:only-of-type {\n",
              "        vertical-align: middle;\n",
              "    }\n",
              "\n",
              "    .dataframe tbody tr th {\n",
              "        vertical-align: top;\n",
              "    }\n",
              "\n",
              "    .dataframe thead th {\n",
              "        text-align: right;\n",
              "    }\n",
              "</style>\n",
              "<table border=\"1\" class=\"dataframe\">\n",
              "  <thead>\n",
              "    <tr style=\"text-align: right;\">\n",
              "      <th></th>\n",
              "      <th>ID</th>\n",
              "      <th>Label</th>\n",
              "    </tr>\n",
              "  </thead>\n",
              "  <tbody>\n",
              "    <tr>\n",
              "      <th>0</th>\n",
              "      <td>5c27f04c-bb99-11e8-b2b9-ac1f6b6435d0</td>\n",
              "      <td>8|5|0</td>\n",
              "    </tr>\n",
              "    <tr>\n",
              "      <th>1</th>\n",
              "      <td>5fb643ee-bb99-11e8-b2b9-ac1f6b6435d0</td>\n",
              "      <td>14|0</td>\n",
              "    </tr>\n",
              "    <tr>\n",
              "      <th>2</th>\n",
              "      <td>60b57878-bb99-11e8-b2b9-ac1f6b6435d0</td>\n",
              "      <td>6|1</td>\n",
              "    </tr>\n",
              "    <tr>\n",
              "      <th>3</th>\n",
              "      <td>5c1a898e-bb99-11e8-b2b9-ac1f6b6435d0</td>\n",
              "      <td>16|10</td>\n",
              "    </tr>\n",
              "    <tr>\n",
              "      <th>4</th>\n",
              "      <td>5b931256-bb99-11e8-b2b9-ac1f6b6435d0</td>\n",
              "      <td>14|0</td>\n",
              "    </tr>\n",
              "    <tr>\n",
              "      <th>...</th>\n",
              "      <td>...</td>\n",
              "      <td>...</td>\n",
              "    </tr>\n",
              "    <tr>\n",
              "      <th>21801</th>\n",
              "      <td>dd0989c4-bbca-11e8-b2bc-ac1f6b6435d0</td>\n",
              "      <td>14</td>\n",
              "    </tr>\n",
              "    <tr>\n",
              "      <th>21802</th>\n",
              "      <td>dd1f7fb8-bbca-11e8-b2bc-ac1f6b6435d0</td>\n",
              "      <td>3|0</td>\n",
              "    </tr>\n",
              "    <tr>\n",
              "      <th>21803</th>\n",
              "      <td>dd5cb36a-bbca-11e8-b2bc-ac1f6b6435d0</td>\n",
              "      <td>14|0</td>\n",
              "    </tr>\n",
              "    <tr>\n",
              "      <th>21804</th>\n",
              "      <td>df573730-bbca-11e8-b2bc-ac1f6b6435d0</td>\n",
              "      <td>14</td>\n",
              "    </tr>\n",
              "    <tr>\n",
              "      <th>21805</th>\n",
              "      <td>dea19dc6-bbca-11e8-b2bc-ac1f6b6435d0</td>\n",
              "      <td>5|0</td>\n",
              "    </tr>\n",
              "  </tbody>\n",
              "</table>\n",
              "<p>21806 rows × 2 columns</p>\n",
              "</div>"
            ],
            "text/plain": [
              "                                         ID  Label\n",
              "0      5c27f04c-bb99-11e8-b2b9-ac1f6b6435d0  8|5|0\n",
              "1      5fb643ee-bb99-11e8-b2b9-ac1f6b6435d0   14|0\n",
              "2      60b57878-bb99-11e8-b2b9-ac1f6b6435d0    6|1\n",
              "3      5c1a898e-bb99-11e8-b2b9-ac1f6b6435d0  16|10\n",
              "4      5b931256-bb99-11e8-b2b9-ac1f6b6435d0   14|0\n",
              "...                                     ...    ...\n",
              "21801  dd0989c4-bbca-11e8-b2bc-ac1f6b6435d0     14\n",
              "21802  dd1f7fb8-bbca-11e8-b2bc-ac1f6b6435d0    3|0\n",
              "21803  dd5cb36a-bbca-11e8-b2bc-ac1f6b6435d0   14|0\n",
              "21804  df573730-bbca-11e8-b2bc-ac1f6b6435d0     14\n",
              "21805  dea19dc6-bbca-11e8-b2bc-ac1f6b6435d0    5|0\n",
              "\n",
              "[21806 rows x 2 columns]"
            ]
          },
          "metadata": {
            "tags": []
          },
          "execution_count": 17
        }
      ]
    },
    {
      "cell_type": "markdown",
      "metadata": {
        "id": "sy-cC5gtlT7x"
      },
      "source": [
        "We are going to have to generate our labels to distinguish what these numerical labels mean!"
      ]
    },
    {
      "cell_type": "code",
      "metadata": {
        "id": "-RxXxMt7J0BW"
      },
      "source": [
        "labels = [\"Nucleoplasm\",\"Nuclear_membrane\", \"Nucleoli\",\"Nucleoli_fibrillar_center\"\n",
        "         \"Nuclear_speckles\",\"Nuclear_bodies\",\"Endoplasmic_reticulum\",\"Golgi_apparatus\",\n",
        "         \"Intermediate_filaments\",\"Actin_filaments\",\"Microtubules\",\"Mitotic_spindle\",\n",
        "         \"Centrosome\",\"Plasma_membrane\",\"Mitochondria\",\"Aggresome\",\"Cytosol\",\n",
        "         \"Vesicles_and_punctate_cytosolic_patterns\",\"Negative\",\"dummy\"]"
      ],
      "execution_count": null,
      "outputs": []
    },
    {
      "cell_type": "code",
      "metadata": {
        "colab": {
          "base_uri": "https://localhost:8080/"
        },
        "id": "tq62e44rJ1x8",
        "outputId": "c896252b-c787-4ad0-85a7-3050ae365a89"
      },
      "source": [
        "labels"
      ],
      "execution_count": null,
      "outputs": [
        {
          "output_type": "execute_result",
          "data": {
            "text/plain": [
              "['Nucleoplasm',\n",
              " 'Nuclear_membrane',\n",
              " 'Nucleoli',\n",
              " 'Nucleoli_fibrillar_centerNuclear_speckles',\n",
              " 'Nuclear_bodies',\n",
              " 'Endoplasmic_reticulum',\n",
              " 'Golgi_apparatus',\n",
              " 'Intermediate_filaments',\n",
              " 'Actin_filaments',\n",
              " 'Microtubules',\n",
              " 'Mitotic_spindle',\n",
              " 'Centrosome',\n",
              " 'Plasma_membrane',\n",
              " 'Mitochondria',\n",
              " 'Aggresome',\n",
              " 'Cytosol',\n",
              " 'Vesicles_and_punctate_cytosolic_patterns',\n",
              " 'Negative',\n",
              " 'dummy']"
            ]
          },
          "metadata": {
            "tags": []
          },
          "execution_count": 19
        }
      ]
    },
    {
      "cell_type": "markdown",
      "metadata": {
        "id": "PXuj407uldvm"
      },
      "source": [
        "We then split every label to generate their own directory"
      ]
    },
    {
      "cell_type": "code",
      "metadata": {
        "id": "BUddy8UnJ3WP"
      },
      "source": [
        "train_data[\"Label\"] = train_data[\"Label\"].str.split(\"|\")\n",
        "df = pd.DataFrame(columns=labels)"
      ],
      "execution_count": null,
      "outputs": []
    },
    {
      "cell_type": "markdown",
      "metadata": {
        "id": "NV0aICNMlpaA"
      },
      "source": [
        "Now we have our labels lets combine both dataframes"
      ]
    },
    {
      "cell_type": "code",
      "metadata": {
        "id": "0ULyVRrQKEfK"
      },
      "source": [
        "for row in train_data[\"Label\"]:\n",
        "    arr = np.zeros(19)\n",
        "    for val in row:\n",
        "        arr[int(val)] = 1\n",
        "    arr = arr.reshape(-1,19)\n",
        "    #print(arr)\n",
        "    df = pd.DataFrame(arr,columns=labels).append(df,ignore_index=True)\n",
        "train_data = train_data.join(df)\n",
        "train_data.drop(\"dummy\",axis=1, inplace=True)"
      ],
      "execution_count": null,
      "outputs": []
    },
    {
      "cell_type": "code",
      "metadata": {
        "colab": {
          "base_uri": "https://localhost:8080/",
          "height": 479
        },
        "id": "svX_rd_QKJfk",
        "outputId": "a048654c-524e-44b1-b847-ce9ee9702372"
      },
      "source": [
        "train_data.head()"
      ],
      "execution_count": null,
      "outputs": [
        {
          "output_type": "execute_result",
          "data": {
            "text/html": [
              "<div>\n",
              "<style scoped>\n",
              "    .dataframe tbody tr th:only-of-type {\n",
              "        vertical-align: middle;\n",
              "    }\n",
              "\n",
              "    .dataframe tbody tr th {\n",
              "        vertical-align: top;\n",
              "    }\n",
              "\n",
              "    .dataframe thead th {\n",
              "        text-align: right;\n",
              "    }\n",
              "</style>\n",
              "<table border=\"1\" class=\"dataframe\">\n",
              "  <thead>\n",
              "    <tr style=\"text-align: right;\">\n",
              "      <th></th>\n",
              "      <th>ID</th>\n",
              "      <th>Label</th>\n",
              "      <th>Nucleoplasm</th>\n",
              "      <th>Nuclear_membrane</th>\n",
              "      <th>Nucleoli</th>\n",
              "      <th>Nucleoli_fibrillar_centerNuclear_speckles</th>\n",
              "      <th>Nuclear_bodies</th>\n",
              "      <th>Endoplasmic_reticulum</th>\n",
              "      <th>Golgi_apparatus</th>\n",
              "      <th>Intermediate_filaments</th>\n",
              "      <th>Actin_filaments</th>\n",
              "      <th>Microtubules</th>\n",
              "      <th>Mitotic_spindle</th>\n",
              "      <th>Centrosome</th>\n",
              "      <th>Plasma_membrane</th>\n",
              "      <th>Mitochondria</th>\n",
              "      <th>Aggresome</th>\n",
              "      <th>Cytosol</th>\n",
              "      <th>Vesicles_and_punctate_cytosolic_patterns</th>\n",
              "      <th>Negative</th>\n",
              "    </tr>\n",
              "  </thead>\n",
              "  <tbody>\n",
              "    <tr>\n",
              "      <th>0</th>\n",
              "      <td>5c27f04c-bb99-11e8-b2b9-ac1f6b6435d0</td>\n",
              "      <td>[8, 5, 0]</td>\n",
              "      <td>1.0</td>\n",
              "      <td>0.0</td>\n",
              "      <td>0.0</td>\n",
              "      <td>0.0</td>\n",
              "      <td>0.0</td>\n",
              "      <td>1.0</td>\n",
              "      <td>0.0</td>\n",
              "      <td>0.0</td>\n",
              "      <td>0.0</td>\n",
              "      <td>0.0</td>\n",
              "      <td>0.0</td>\n",
              "      <td>0.0</td>\n",
              "      <td>0.0</td>\n",
              "      <td>0.0</td>\n",
              "      <td>0.0</td>\n",
              "      <td>0.0</td>\n",
              "      <td>0.0</td>\n",
              "      <td>0.0</td>\n",
              "    </tr>\n",
              "    <tr>\n",
              "      <th>1</th>\n",
              "      <td>5fb643ee-bb99-11e8-b2b9-ac1f6b6435d0</td>\n",
              "      <td>[14, 0]</td>\n",
              "      <td>0.0</td>\n",
              "      <td>0.0</td>\n",
              "      <td>0.0</td>\n",
              "      <td>0.0</td>\n",
              "      <td>0.0</td>\n",
              "      <td>0.0</td>\n",
              "      <td>0.0</td>\n",
              "      <td>0.0</td>\n",
              "      <td>0.0</td>\n",
              "      <td>0.0</td>\n",
              "      <td>0.0</td>\n",
              "      <td>0.0</td>\n",
              "      <td>0.0</td>\n",
              "      <td>0.0</td>\n",
              "      <td>1.0</td>\n",
              "      <td>0.0</td>\n",
              "      <td>0.0</td>\n",
              "      <td>0.0</td>\n",
              "    </tr>\n",
              "    <tr>\n",
              "      <th>2</th>\n",
              "      <td>60b57878-bb99-11e8-b2b9-ac1f6b6435d0</td>\n",
              "      <td>[6, 1]</td>\n",
              "      <td>1.0</td>\n",
              "      <td>0.0</td>\n",
              "      <td>0.0</td>\n",
              "      <td>0.0</td>\n",
              "      <td>0.0</td>\n",
              "      <td>0.0</td>\n",
              "      <td>0.0</td>\n",
              "      <td>0.0</td>\n",
              "      <td>0.0</td>\n",
              "      <td>0.0</td>\n",
              "      <td>0.0</td>\n",
              "      <td>0.0</td>\n",
              "      <td>0.0</td>\n",
              "      <td>0.0</td>\n",
              "      <td>1.0</td>\n",
              "      <td>0.0</td>\n",
              "      <td>0.0</td>\n",
              "      <td>0.0</td>\n",
              "    </tr>\n",
              "    <tr>\n",
              "      <th>3</th>\n",
              "      <td>5c1a898e-bb99-11e8-b2b9-ac1f6b6435d0</td>\n",
              "      <td>[16, 10]</td>\n",
              "      <td>1.0</td>\n",
              "      <td>0.0</td>\n",
              "      <td>0.0</td>\n",
              "      <td>1.0</td>\n",
              "      <td>0.0</td>\n",
              "      <td>0.0</td>\n",
              "      <td>0.0</td>\n",
              "      <td>0.0</td>\n",
              "      <td>0.0</td>\n",
              "      <td>0.0</td>\n",
              "      <td>0.0</td>\n",
              "      <td>0.0</td>\n",
              "      <td>0.0</td>\n",
              "      <td>0.0</td>\n",
              "      <td>0.0</td>\n",
              "      <td>0.0</td>\n",
              "      <td>0.0</td>\n",
              "      <td>0.0</td>\n",
              "    </tr>\n",
              "    <tr>\n",
              "      <th>4</th>\n",
              "      <td>5b931256-bb99-11e8-b2b9-ac1f6b6435d0</td>\n",
              "      <td>[14, 0]</td>\n",
              "      <td>0.0</td>\n",
              "      <td>0.0</td>\n",
              "      <td>0.0</td>\n",
              "      <td>0.0</td>\n",
              "      <td>0.0</td>\n",
              "      <td>0.0</td>\n",
              "      <td>0.0</td>\n",
              "      <td>0.0</td>\n",
              "      <td>0.0</td>\n",
              "      <td>0.0</td>\n",
              "      <td>0.0</td>\n",
              "      <td>0.0</td>\n",
              "      <td>0.0</td>\n",
              "      <td>0.0</td>\n",
              "      <td>1.0</td>\n",
              "      <td>0.0</td>\n",
              "      <td>0.0</td>\n",
              "      <td>0.0</td>\n",
              "    </tr>\n",
              "  </tbody>\n",
              "</table>\n",
              "</div>"
            ],
            "text/plain": [
              "                                     ID  ... Negative\n",
              "0  5c27f04c-bb99-11e8-b2b9-ac1f6b6435d0  ...      0.0\n",
              "1  5fb643ee-bb99-11e8-b2b9-ac1f6b6435d0  ...      0.0\n",
              "2  60b57878-bb99-11e8-b2b9-ac1f6b6435d0  ...      0.0\n",
              "3  5c1a898e-bb99-11e8-b2b9-ac1f6b6435d0  ...      0.0\n",
              "4  5b931256-bb99-11e8-b2b9-ac1f6b6435d0  ...      0.0\n",
              "\n",
              "[5 rows x 20 columns]"
            ]
          },
          "metadata": {
            "tags": []
          },
          "execution_count": 22
        }
      ]
    },
    {
      "cell_type": "markdown",
      "metadata": {
        "id": "Or5KSBgIlywR"
      },
      "source": [
        "We only have to run this code below once in order to copy images to their directories with respect to the labels that was given to the images"
      ]
    },
    {
      "cell_type": "code",
      "metadata": {
        "id": "3MkFqzUYEGtF"
      },
      "source": [
        "  # import os\n",
        "  # from shutil import copyfile\n",
        "  # forbidden_words = [\"_\",\".png\",\"green\",\"blue\",\"red\",\"yellow\"]\n",
        "  # for file in os.listdir(\"/content/drive/MyDrive/data_files_kaggle/hpa-single-cell-image-classification/train\"):\n",
        "  #   name = file\n",
        "  #   #print(name)\n",
        "  #   for word in forbidden_words:\n",
        "  #     name = name.replace(word,\"\")\n",
        "  #   #print(name)\n",
        "  #     #print(file)\n",
        "  #     temp = train_data[train_data[\"ID\"] == name]\n",
        "  #     for num in temp[\"Label\"]:\n",
        "  #         for marker in num:\n",
        "  #             if not os.path.exists('/content/drive/MyDrive/data_files_kaggle/hpa-single-cell-image-classification/train_data/'+ marker):\n",
        "  #                  os.makedirs('/content/drive/MyDrive/data_files_kaggle/hpa-single-cell-image-classification/train_data/'+ marker)\n",
        "  #             if not os.path.exists('/content/drive/MyDrive/data_files_kaggle/hpa-single-cell-image-classification/train_data/'+ marker+\"/\"+name +\".png\"):\n",
        "  #                  copyfile('/content/drive/MyDrive/data_files_kaggle/hpa-single-cell-image-classification/train/'+ file, '/content/drive/MyDrive/data_files_kaggle/hpa-single-cell-image-classification/train_data/'+ marker+\"/\"+name +\".png\")\n",
        "\n"
      ],
      "execution_count": null,
      "outputs": []
    }
  ]
}