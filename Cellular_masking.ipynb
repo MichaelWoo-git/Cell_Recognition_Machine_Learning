{
 "cells": [
  {
   "cell_type": "code",
   "execution_count": 1,
   "id": "conservative-parking",
   "metadata": {},
   "outputs": [],
   "source": [
    "import io\n",
    "import os\n",
    "import requests\n",
    "import pathlib\n",
    "import gzip\n",
    "import imageio\n",
    "import pandas as pd\n",
    "\n",
    "\n",
    "def tif_gzip_to_png(tif_path):\n",
    "    '''Function to convert .tif.gz to .png and put it in the same folder\n",
    "    Eg. for working in local work station\n",
    "    '''\n",
    "    png_path = pathlib.Path(tif_path.replace('.tif.gz','.png'))\n",
    "    tf = gzip.open(tif_path).read()\n",
    "    img = imageio.imread(tf, 'tiff')\n",
    "    imageio.imwrite(png_path, img)\n",
    "    \n",
    "def download_and_convert_tifgzip_to_png(url, target_path):    \n",
    "    '''Function to convert .tif.gz to .png and put it in the same folder\n",
    "    Eg. in Kaggle notebook\n",
    "    '''\n",
    "    r = requests.get(url)\n",
    "    f = io.BytesIO(r.content)\n",
    "    tf = gzip.open(f).read()\n",
    "    img = imageio.imread(tf, 'tiff')\n",
    "    imageio.imwrite(target_path, img)"
   ]
  },
  {
   "cell_type": "code",
   "execution_count": 2,
   "id": "acute-highland",
   "metadata": {},
   "outputs": [],
   "source": [
    "# All label names in the public HPA and their corresponding index. \n",
    "all_locations = dict({\n",
    "    \"Nucleoplasm\": 0,\n",
    "    \"Nuclear membrane\": 1,\n",
    "    \"Nucleoli\": 2,\n",
    "    \"Nucleoli fibrillar center\": 3,\n",
    "    \"Nuclear speckles\": 4,\n",
    "    \"Nuclear bodies\": 5,\n",
    "    \"Endoplasmic reticulum\": 6,\n",
    "    \"Golgi apparatus\": 7,\n",
    "    \"Intermediate filaments\": 8,\n",
    "    \"Actin filaments\": 9,\n",
    "    \"Focal adhesion sites\": 9,\n",
    "    \"Microtubules\": 10,\n",
    "    \"Mitotic spindle\": 11,\n",
    "    \"Centrosome\": 12,\n",
    "    \"Centriolar satellite\": 12,\n",
    "    \"Plasma membrane\": 13,\n",
    "    \"Cell Junctions\": 13,\n",
    "    \"Mitochondria\": 14,\n",
    "    \"Aggresome\": 15,\n",
    "    \"Cytosol\": 16,\n",
    "    \"Vesicles\": 17,\n",
    "    \"Peroxisomes\": 17,\n",
    "    \"Endosomes\": 17,\n",
    "    \"Lysosomes\": 17,\n",
    "    \"Lipid droplets\": 17,\n",
    "    \"Cytoplasmic bodies\": 17,\n",
    "    \"No staining\": 18\n",
    "})\n",
    "\n",
    "\n",
    "def add_label_idx(df, all_locations):\n",
    "    '''Function to convert label name to index\n",
    "    '''\n",
    "    df[\"Label_idx\"] = None\n",
    "    for i, row in df.iterrows():\n",
    "        labels = row.Label.split(',')\n",
    "        idx = []\n",
    "        for l in labels:\n",
    "            if l in all_locations.keys():\n",
    "                idx.append(str(all_locations[l]))\n",
    "        if len(idx)>0:\n",
    "            df.loc[i,\"Label_idx\"] = \"|\".join(idx)\n",
    "            \n",
    "        print(df.loc[i,\"Label\"], df.loc[i,\"Label_idx\"])\n",
    "    return df"
   ]
  },
  {
   "cell_type": "code",
   "execution_count": 3,
   "id": "northern-encoding",
   "metadata": {},
   "outputs": [
    {
     "data": {
      "text/plain": [
       "(77668, 67462)"
      ]
     },
     "execution_count": 3,
     "metadata": {},
     "output_type": "execute_result"
    }
   ],
   "source": [
    "public_hpa_df = pd.read_csv('kaggle_2021.tsv')\n",
    "# Remove all images overlapping with Training set\n",
    "public_hpa_df = public_hpa_df[public_hpa_df.in_trainset == False]\n",
    "\n",
    "# Remove all images with only labels that are not in this competition\n",
    "public_hpa_df = public_hpa_df[~public_hpa_df.Label_idx.isna()]\n",
    "\n",
    "colors = ['blue', 'red', 'green', 'yellow']\n",
    "celllines = ['A-431', 'A549', 'EFO-21', 'HAP1', 'HEK 293', 'HUVEC TERT2', 'HaCaT', 'HeLa', 'PC-3', 'RH-30', 'RPTEC TERT1', 'SH-SY5Y', 'SK-MEL-30', 'SiHa', 'U-2 OS', 'U-251 MG', 'hTCEpi']\n",
    "public_hpa_df_17 = public_hpa_df[public_hpa_df.Cellline.isin(celllines)]\n",
    "len(public_hpa_df), len(public_hpa_df_17)"
   ]
  },
  {
   "cell_type": "code",
   "execution_count": 5,
   "id": "annoying-dividend",
   "metadata": {},
   "outputs": [
    {
     "name": "stdout",
     "output_type": "stream",
     "text": [
      "Downloaded https://images.proteinatlas.org/10005/931_B9_2_blue.tif.gz as C:\\Users\\PScout\\Github\\Cell_Recognition_Machine_Learning\\publichpa\\931_B9_2_blue.png\n",
      "Downloaded https://images.proteinatlas.org/10005/931_B9_2_red.tif.gz as C:\\Users\\PScout\\Github\\Cell_Recognition_Machine_Learning\\publichpa\\931_B9_2_red.png\n",
      "Downloaded https://images.proteinatlas.org/10005/931_B9_2_green.tif.gz as C:\\Users\\PScout\\Github\\Cell_Recognition_Machine_Learning\\publichpa\\931_B9_2_green.png\n",
      "Downloaded https://images.proteinatlas.org/10005/931_B9_2_yellow.tif.gz as C:\\Users\\PScout\\Github\\Cell_Recognition_Machine_Learning\\publichpa\\931_B9_2_yellow.png\n",
      "Downloaded https://images.proteinatlas.org/10007/1876_A7_32_blue.tif.gz as C:\\Users\\PScout\\Github\\Cell_Recognition_Machine_Learning\\publichpa\\1876_A7_32_blue.png\n",
      "Downloaded https://images.proteinatlas.org/10007/1876_A7_32_red.tif.gz as C:\\Users\\PScout\\Github\\Cell_Recognition_Machine_Learning\\publichpa\\1876_A7_32_red.png\n",
      "Downloaded https://images.proteinatlas.org/10007/1876_A7_32_green.tif.gz as C:\\Users\\PScout\\Github\\Cell_Recognition_Machine_Learning\\publichpa\\1876_A7_32_green.png\n",
      "Downloaded https://images.proteinatlas.org/10007/1876_A7_32_yellow.tif.gz as C:\\Users\\PScout\\Github\\Cell_Recognition_Machine_Learning\\publichpa\\1876_A7_32_yellow.png\n",
      "Downloaded https://images.proteinatlas.org/10007/1876_A7_37_blue.tif.gz as C:\\Users\\PScout\\Github\\Cell_Recognition_Machine_Learning\\publichpa\\1876_A7_37_blue.png\n",
      "Downloaded https://images.proteinatlas.org/10007/1876_A7_37_red.tif.gz as C:\\Users\\PScout\\Github\\Cell_Recognition_Machine_Learning\\publichpa\\1876_A7_37_red.png\n",
      "Downloaded https://images.proteinatlas.org/10007/1876_A7_37_green.tif.gz as C:\\Users\\PScout\\Github\\Cell_Recognition_Machine_Learning\\publichpa\\1876_A7_37_green.png\n",
      "Downloaded https://images.proteinatlas.org/10007/1876_A7_37_yellow.tif.gz as C:\\Users\\PScout\\Github\\Cell_Recognition_Machine_Learning\\publichpa\\1876_A7_37_yellow.png\n",
      "Downloaded https://images.proteinatlas.org/10007/1901_A10_2_blue.tif.gz as C:\\Users\\PScout\\Github\\Cell_Recognition_Machine_Learning\\publichpa\\1901_A10_2_blue.png\n",
      "Downloaded https://images.proteinatlas.org/10007/1901_A10_2_red.tif.gz as C:\\Users\\PScout\\Github\\Cell_Recognition_Machine_Learning\\publichpa\\1901_A10_2_red.png\n",
      "Downloaded https://images.proteinatlas.org/10007/1901_A10_2_green.tif.gz as C:\\Users\\PScout\\Github\\Cell_Recognition_Machine_Learning\\publichpa\\1901_A10_2_green.png\n",
      "Downloaded https://images.proteinatlas.org/10007/1901_A10_2_yellow.tif.gz as C:\\Users\\PScout\\Github\\Cell_Recognition_Machine_Learning\\publichpa\\1901_A10_2_yellow.png\n",
      "Downloaded https://images.proteinatlas.org/10007/1901_A10_3_blue.tif.gz as C:\\Users\\PScout\\Github\\Cell_Recognition_Machine_Learning\\publichpa\\1901_A10_3_blue.png\n",
      "Downloaded https://images.proteinatlas.org/10007/1901_A10_3_red.tif.gz as C:\\Users\\PScout\\Github\\Cell_Recognition_Machine_Learning\\publichpa\\1901_A10_3_red.png\n",
      "Downloaded https://images.proteinatlas.org/10007/1901_A10_3_green.tif.gz as C:\\Users\\PScout\\Github\\Cell_Recognition_Machine_Learning\\publichpa\\1901_A10_3_green.png\n",
      "Downloaded https://images.proteinatlas.org/10007/1901_A10_3_yellow.tif.gz as C:\\Users\\PScout\\Github\\Cell_Recognition_Machine_Learning\\publichpa\\1901_A10_3_yellow.png\n"
     ]
    }
   ],
   "source": [
    "save_dir = os.path.join(os.getcwd(),'publichpa')\n",
    "if not os.path.exists(save_dir):\n",
    "    os.makedirs(save_dir)\n",
    "    \n",
    "for i, row in public_hpa_df[5:10].iterrows():\n",
    "    try:\n",
    "        img = row.Image\n",
    "        for color in colors:\n",
    "            img_url = f'{img}_{color}.tif.gz'\n",
    "            save_path = os.path.join(save_dir,  f'{os.path.basename(img)}_{color}.png')\n",
    "            download_and_convert_tifgzip_to_png(img_url, save_path)\n",
    "            print(f'Downloaded {img_url} as {save_path}')    \n",
    "    except:\n",
    "        print(f'failed to download: {img}')"
   ]
  },
  {
   "cell_type": "code",
   "execution_count": 6,
   "id": "developed-compensation",
   "metadata": {},
   "outputs": [],
   "source": [
    "# ! pip install https://github.com/CellProfiling/HPA-Cell-Segmentation/archive/master.zip"
   ]
  },
  {
   "cell_type": "code",
   "execution_count": 6,
   "id": "turned-private",
   "metadata": {},
   "outputs": [
    {
     "name": "stderr",
     "output_type": "stream",
     "text": [
      "No GPU found, using CPU.\n",
      "C:\\Users\\PScout\\anaconda3\\envs\\py3_base\\lib\\site-packages\\torch\\serialization.py:656: SourceChangeWarning: source code of class 'pytorch_zoo.unet.DPNUnet' has changed. you can retrieve the original source code by accessing the object's source attribute or set `torch.nn.Module.dump_patches = True` and use the patch tool to revert the changes.\n",
      "  warnings.warn(msg, SourceChangeWarning)\n"
     ]
    },
    {
     "name": "stdout",
     "output_type": "stream",
     "text": [
      "please compile abn\n"
     ]
    },
    {
     "name": "stderr",
     "output_type": "stream",
     "text": [
      "C:\\Users\\PScout\\anaconda3\\envs\\py3_base\\lib\\site-packages\\torch\\serialization.py:656: SourceChangeWarning: source code of class 'torch.nn.modules.container.ModuleList' has changed. you can retrieve the original source code by accessing the object's source attribute or set `torch.nn.Module.dump_patches = True` and use the patch tool to revert the changes.\n",
      "  warnings.warn(msg, SourceChangeWarning)\n",
      "C:\\Users\\PScout\\anaconda3\\envs\\py3_base\\lib\\site-packages\\torch\\serialization.py:656: SourceChangeWarning: source code of class 'torch.nn.modules.container.Sequential' has changed. you can retrieve the original source code by accessing the object's source attribute or set `torch.nn.Module.dump_patches = True` and use the patch tool to revert the changes.\n",
      "  warnings.warn(msg, SourceChangeWarning)\n",
      "C:\\Users\\PScout\\anaconda3\\envs\\py3_base\\lib\\site-packages\\torch\\serialization.py:656: SourceChangeWarning: source code of class 'torch.nn.modules.conv.Conv2d' has changed. you can retrieve the original source code by accessing the object's source attribute or set `torch.nn.Module.dump_patches = True` and use the patch tool to revert the changes.\n",
      "  warnings.warn(msg, SourceChangeWarning)\n",
      "C:\\Users\\PScout\\anaconda3\\envs\\py3_base\\lib\\site-packages\\torch\\serialization.py:656: SourceChangeWarning: source code of class 'torch.nn.modules.activation.ReLU' has changed. you can retrieve the original source code by accessing the object's source attribute or set `torch.nn.Module.dump_patches = True` and use the patch tool to revert the changes.\n",
      "  warnings.warn(msg, SourceChangeWarning)\n",
      "C:\\Users\\PScout\\anaconda3\\envs\\py3_base\\lib\\site-packages\\torch\\serialization.py:656: SourceChangeWarning: source code of class 'torch.nn.modules.upsampling.Upsample' has changed. you can retrieve the original source code by accessing the object's source attribute or set `torch.nn.Module.dump_patches = True` and use the patch tool to revert the changes.\n",
      "  warnings.warn(msg, SourceChangeWarning)\n",
      "C:\\Users\\PScout\\anaconda3\\envs\\py3_base\\lib\\site-packages\\torch\\serialization.py:656: SourceChangeWarning: source code of class 'torch.nn.modules.batchnorm.BatchNorm2d' has changed. you can retrieve the original source code by accessing the object's source attribute or set `torch.nn.Module.dump_patches = True` and use the patch tool to revert the changes.\n",
      "  warnings.warn(msg, SourceChangeWarning)\n",
      "C:\\Users\\PScout\\anaconda3\\envs\\py3_base\\lib\\site-packages\\torch\\serialization.py:656: SourceChangeWarning: source code of class 'torch.nn.modules.pooling.MaxPool2d' has changed. you can retrieve the original source code by accessing the object's source attribute or set `torch.nn.Module.dump_patches = True` and use the patch tool to revert the changes.\n",
      "  warnings.warn(msg, SourceChangeWarning)\n"
     ]
    }
   ],
   "source": [
    "import hpacellseg.cellsegmentator as cellsegmentator\n",
    "from hpacellseg.utils import label_cell, label_nuclei\n",
    "import glob\n",
    "\n",
    "mt = glob.glob(save_dir + '/' + '*_red.png')\n",
    "er = [f.replace('red', 'yellow') for f in mt]\n",
    "nu = [f.replace('red', 'blue') for f in mt]\n",
    "images = [mt, er, nu]\n",
    "\n",
    "\n",
    "NUC_MODEL = \"./nuclei-model.pth\"\n",
    "CELL_MODEL = \"./cell-model.pth\"\n",
    "segmentator = cellsegmentator.CellSegmentator(\n",
    "    NUC_MODEL,\n",
    "    CELL_MODEL,\n",
    "    scale_factor=0.25,\n",
    "    device=\"cuda\",\n",
    "    padding=False,\n",
    "    multi_channel_model=True,\n",
    ")\n",
    "\n",
    "# For nuclei\n",
    "nuc_segmentations = segmentator.pred_nuclei(images[2])\n",
    "\n",
    "# For full cells\n",
    "cell_segmentations = segmentator.pred_cells(images)\n",
    "\n",
    "# post-processing\n",
    "for i, pred in enumerate(cell_segmentations):\n",
    "    nuclei_mask, cell_mask = label_cell(nuc_segmentations[i], cell_segmentations[i])\n",
    "    FOVname = os.path.basename(mt[i]).replace('red','predictedmask')\n",
    "    imageio.imwrite(os.path.join(save_dir,FOVname), cell_mask) "
   ]
  },
  {
   "cell_type": "code",
   "execution_count": 7,
   "id": "wound-coordinate",
   "metadata": {},
   "outputs": [
    {
     "data": {
      "text/html": [
       "<div>\n",
       "<style scoped>\n",
       "    .dataframe tbody tr th:only-of-type {\n",
       "        vertical-align: middle;\n",
       "    }\n",
       "\n",
       "    .dataframe tbody tr th {\n",
       "        vertical-align: top;\n",
       "    }\n",
       "\n",
       "    .dataframe thead th {\n",
       "        text-align: right;\n",
       "    }\n",
       "</style>\n",
       "<table border=\"1\" class=\"dataframe\">\n",
       "  <thead>\n",
       "    <tr style=\"text-align: right;\">\n",
       "      <th></th>\n",
       "      <th>Image</th>\n",
       "      <th>Label</th>\n",
       "      <th>Cellline</th>\n",
       "      <th>in_trainset</th>\n",
       "      <th>Label_idx</th>\n",
       "    </tr>\n",
       "  </thead>\n",
       "  <tbody>\n",
       "    <tr>\n",
       "      <th>5</th>\n",
       "      <td>https://images.proteinatlas.org/10005/931_B9_2</td>\n",
       "      <td>Cytosol</td>\n",
       "      <td>U-2 OS</td>\n",
       "      <td>False</td>\n",
       "      <td>16</td>\n",
       "    </tr>\n",
       "    <tr>\n",
       "      <th>6</th>\n",
       "      <td>https://images.proteinatlas.org/10007/1876_A7_32</td>\n",
       "      <td>Endoplasmic reticulum</td>\n",
       "      <td>ASC TERT1</td>\n",
       "      <td>False</td>\n",
       "      <td>6</td>\n",
       "    </tr>\n",
       "    <tr>\n",
       "      <th>7</th>\n",
       "      <td>https://images.proteinatlas.org/10007/1876_A7_37</td>\n",
       "      <td>Endoplasmic reticulum</td>\n",
       "      <td>ASC TERT1</td>\n",
       "      <td>False</td>\n",
       "      <td>6</td>\n",
       "    </tr>\n",
       "    <tr>\n",
       "      <th>8</th>\n",
       "      <td>https://images.proteinatlas.org/10007/1901_A10_2</td>\n",
       "      <td>Vesicles</td>\n",
       "      <td>U-2 OS</td>\n",
       "      <td>False</td>\n",
       "      <td>17</td>\n",
       "    </tr>\n",
       "    <tr>\n",
       "      <th>9</th>\n",
       "      <td>https://images.proteinatlas.org/10007/1901_A10_3</td>\n",
       "      <td>Vesicles</td>\n",
       "      <td>U-2 OS</td>\n",
       "      <td>False</td>\n",
       "      <td>17</td>\n",
       "    </tr>\n",
       "  </tbody>\n",
       "</table>\n",
       "</div>"
      ],
      "text/plain": [
       "                                              Image                  Label  \\\n",
       "5    https://images.proteinatlas.org/10005/931_B9_2                Cytosol   \n",
       "6  https://images.proteinatlas.org/10007/1876_A7_32  Endoplasmic reticulum   \n",
       "7  https://images.proteinatlas.org/10007/1876_A7_37  Endoplasmic reticulum   \n",
       "8  https://images.proteinatlas.org/10007/1901_A10_2               Vesicles   \n",
       "9  https://images.proteinatlas.org/10007/1901_A10_3               Vesicles   \n",
       "\n",
       "    Cellline  in_trainset Label_idx  \n",
       "5     U-2 OS        False        16  \n",
       "6  ASC TERT1        False         6  \n",
       "7  ASC TERT1        False         6  \n",
       "8     U-2 OS        False        17  \n",
       "9     U-2 OS        False        17  "
      ]
     },
     "execution_count": 7,
     "metadata": {},
     "output_type": "execute_result"
    }
   ],
   "source": [
    "public_hpa_df[5:10]"
   ]
  },
  {
   "cell_type": "code",
   "execution_count": 9,
   "id": "demanding-chicago",
   "metadata": {},
   "outputs": [
    {
     "ename": "FileNotFoundError",
     "evalue": "[Errno 2] No such file or directory: 'C:\\\\Users\\\\PScout\\\\Github\\\\Cell_Recognition_Machine_Learning\\\\publichpa\\\\1876_A7_32_red.png'",
     "output_type": "error",
     "traceback": [
      "\u001b[1;31m---------------------------------------------------------------------------\u001b[0m",
      "\u001b[1;31mFileNotFoundError\u001b[0m                         Traceback (most recent call last)",
      "\u001b[1;32m<ipython-input-9-c388a17c88f4>\u001b[0m in \u001b[0;36m<module>\u001b[1;34m\u001b[0m\n\u001b[0;32m      6\u001b[0m \u001b[0mfig\u001b[0m\u001b[1;33m,\u001b[0m \u001b[0max\u001b[0m \u001b[1;33m=\u001b[0m \u001b[0mplt\u001b[0m\u001b[1;33m.\u001b[0m\u001b[0msubplots\u001b[0m\u001b[1;33m(\u001b[0m\u001b[1;36m1\u001b[0m\u001b[1;33m,\u001b[0m\u001b[1;36m5\u001b[0m\u001b[1;33m,\u001b[0m \u001b[0mfigsize\u001b[0m\u001b[1;33m=\u001b[0m\u001b[1;33m(\u001b[0m\u001b[1;36m20\u001b[0m\u001b[1;33m,\u001b[0m\u001b[1;36m50\u001b[0m\u001b[1;33m)\u001b[0m\u001b[1;33m)\u001b[0m\u001b[1;33m\u001b[0m\u001b[1;33m\u001b[0m\u001b[0m\n\u001b[0;32m      7\u001b[0m \u001b[1;32mfor\u001b[0m \u001b[0mi\u001b[0m \u001b[1;32min\u001b[0m \u001b[0mrange\u001b[0m\u001b[1;33m(\u001b[0m\u001b[1;36m5\u001b[0m\u001b[1;33m)\u001b[0m\u001b[1;33m:\u001b[0m\u001b[1;33m\u001b[0m\u001b[1;33m\u001b[0m\u001b[0m\n\u001b[1;32m----> 8\u001b[1;33m     \u001b[0mmicrotubule\u001b[0m \u001b[1;33m=\u001b[0m \u001b[0mplt\u001b[0m\u001b[1;33m.\u001b[0m\u001b[0mimread\u001b[0m\u001b[1;33m(\u001b[0m\u001b[0mmt\u001b[0m\u001b[1;33m[\u001b[0m\u001b[0mi\u001b[0m\u001b[1;33m]\u001b[0m\u001b[1;33m)\u001b[0m\u001b[1;33m\u001b[0m\u001b[1;33m\u001b[0m\u001b[0m\n\u001b[0m\u001b[0;32m      9\u001b[0m     \u001b[0mendoplasmicrec\u001b[0m \u001b[1;33m=\u001b[0m \u001b[0mplt\u001b[0m\u001b[1;33m.\u001b[0m\u001b[0mimread\u001b[0m\u001b[1;33m(\u001b[0m\u001b[0mer\u001b[0m\u001b[1;33m[\u001b[0m\u001b[0mi\u001b[0m\u001b[1;33m]\u001b[0m\u001b[1;33m)\u001b[0m\u001b[1;33m\u001b[0m\u001b[1;33m\u001b[0m\u001b[0m\n\u001b[0;32m     10\u001b[0m     \u001b[0mnuclei\u001b[0m \u001b[1;33m=\u001b[0m \u001b[0mplt\u001b[0m\u001b[1;33m.\u001b[0m\u001b[0mimread\u001b[0m\u001b[1;33m(\u001b[0m\u001b[0mnu\u001b[0m\u001b[1;33m[\u001b[0m\u001b[0mi\u001b[0m\u001b[1;33m]\u001b[0m\u001b[1;33m)\u001b[0m\u001b[1;33m\u001b[0m\u001b[1;33m\u001b[0m\u001b[0m\n",
      "\u001b[1;32m~\\anaconda3\\envs\\py3_base\\lib\\site-packages\\matplotlib\\pyplot.py\u001b[0m in \u001b[0;36mimread\u001b[1;34m(fname, format)\u001b[0m\n\u001b[0;32m   2244\u001b[0m \u001b[1;33m@\u001b[0m\u001b[0m_copy_docstring_and_deprecators\u001b[0m\u001b[1;33m(\u001b[0m\u001b[0mmatplotlib\u001b[0m\u001b[1;33m.\u001b[0m\u001b[0mimage\u001b[0m\u001b[1;33m.\u001b[0m\u001b[0mimread\u001b[0m\u001b[1;33m)\u001b[0m\u001b[1;33m\u001b[0m\u001b[1;33m\u001b[0m\u001b[0m\n\u001b[0;32m   2245\u001b[0m \u001b[1;32mdef\u001b[0m \u001b[0mimread\u001b[0m\u001b[1;33m(\u001b[0m\u001b[0mfname\u001b[0m\u001b[1;33m,\u001b[0m \u001b[0mformat\u001b[0m\u001b[1;33m=\u001b[0m\u001b[1;32mNone\u001b[0m\u001b[1;33m)\u001b[0m\u001b[1;33m:\u001b[0m\u001b[1;33m\u001b[0m\u001b[1;33m\u001b[0m\u001b[0m\n\u001b[1;32m-> 2246\u001b[1;33m     \u001b[1;32mreturn\u001b[0m \u001b[0mmatplotlib\u001b[0m\u001b[1;33m.\u001b[0m\u001b[0mimage\u001b[0m\u001b[1;33m.\u001b[0m\u001b[0mimread\u001b[0m\u001b[1;33m(\u001b[0m\u001b[0mfname\u001b[0m\u001b[1;33m,\u001b[0m \u001b[0mformat\u001b[0m\u001b[1;33m)\u001b[0m\u001b[1;33m\u001b[0m\u001b[1;33m\u001b[0m\u001b[0m\n\u001b[0m\u001b[0;32m   2247\u001b[0m \u001b[1;33m\u001b[0m\u001b[0m\n\u001b[0;32m   2248\u001b[0m \u001b[1;33m\u001b[0m\u001b[0m\n",
      "\u001b[1;32m~\\anaconda3\\envs\\py3_base\\lib\\site-packages\\matplotlib\\image.py\u001b[0m in \u001b[0;36mimread\u001b[1;34m(fname, format)\u001b[0m\n\u001b[0;32m   1494\u001b[0m                     \u001b[0mresponse\u001b[0m \u001b[1;33m=\u001b[0m \u001b[0mio\u001b[0m\u001b[1;33m.\u001b[0m\u001b[0mBytesIO\u001b[0m\u001b[1;33m(\u001b[0m\u001b[0mresponse\u001b[0m\u001b[1;33m.\u001b[0m\u001b[0mread\u001b[0m\u001b[1;33m(\u001b[0m\u001b[1;33m)\u001b[0m\u001b[1;33m)\u001b[0m\u001b[1;33m\u001b[0m\u001b[1;33m\u001b[0m\u001b[0m\n\u001b[0;32m   1495\u001b[0m                 \u001b[1;32mreturn\u001b[0m \u001b[0mimread\u001b[0m\u001b[1;33m(\u001b[0m\u001b[0mresponse\u001b[0m\u001b[1;33m,\u001b[0m \u001b[0mformat\u001b[0m\u001b[1;33m=\u001b[0m\u001b[0mext\u001b[0m\u001b[1;33m)\u001b[0m\u001b[1;33m\u001b[0m\u001b[1;33m\u001b[0m\u001b[0m\n\u001b[1;32m-> 1496\u001b[1;33m     \u001b[1;32mwith\u001b[0m \u001b[0mimg_open\u001b[0m\u001b[1;33m(\u001b[0m\u001b[0mfname\u001b[0m\u001b[1;33m)\u001b[0m \u001b[1;32mas\u001b[0m \u001b[0mimage\u001b[0m\u001b[1;33m:\u001b[0m\u001b[1;33m\u001b[0m\u001b[1;33m\u001b[0m\u001b[0m\n\u001b[0m\u001b[0;32m   1497\u001b[0m         return (_pil_png_to_float_array(image)\n\u001b[0;32m   1498\u001b[0m                 \u001b[1;32mif\u001b[0m \u001b[0misinstance\u001b[0m\u001b[1;33m(\u001b[0m\u001b[0mimage\u001b[0m\u001b[1;33m,\u001b[0m \u001b[0mPIL\u001b[0m\u001b[1;33m.\u001b[0m\u001b[0mPngImagePlugin\u001b[0m\u001b[1;33m.\u001b[0m\u001b[0mPngImageFile\u001b[0m\u001b[1;33m)\u001b[0m \u001b[1;32melse\u001b[0m\u001b[1;33m\u001b[0m\u001b[1;33m\u001b[0m\u001b[0m\n",
      "\u001b[1;32m~\\anaconda3\\envs\\py3_base\\lib\\site-packages\\PIL\\ImageFile.py\u001b[0m in \u001b[0;36m__init__\u001b[1;34m(self, fp, filename)\u001b[0m\n\u001b[0;32m    107\u001b[0m         \u001b[1;32mif\u001b[0m \u001b[0misPath\u001b[0m\u001b[1;33m(\u001b[0m\u001b[0mfp\u001b[0m\u001b[1;33m)\u001b[0m\u001b[1;33m:\u001b[0m\u001b[1;33m\u001b[0m\u001b[1;33m\u001b[0m\u001b[0m\n\u001b[0;32m    108\u001b[0m             \u001b[1;31m# filename\u001b[0m\u001b[1;33m\u001b[0m\u001b[1;33m\u001b[0m\u001b[1;33m\u001b[0m\u001b[0m\n\u001b[1;32m--> 109\u001b[1;33m             \u001b[0mself\u001b[0m\u001b[1;33m.\u001b[0m\u001b[0mfp\u001b[0m \u001b[1;33m=\u001b[0m \u001b[0mopen\u001b[0m\u001b[1;33m(\u001b[0m\u001b[0mfp\u001b[0m\u001b[1;33m,\u001b[0m \u001b[1;34m\"rb\"\u001b[0m\u001b[1;33m)\u001b[0m\u001b[1;33m\u001b[0m\u001b[1;33m\u001b[0m\u001b[0m\n\u001b[0m\u001b[0;32m    110\u001b[0m             \u001b[0mself\u001b[0m\u001b[1;33m.\u001b[0m\u001b[0mfilename\u001b[0m \u001b[1;33m=\u001b[0m \u001b[0mfp\u001b[0m\u001b[1;33m\u001b[0m\u001b[1;33m\u001b[0m\u001b[0m\n\u001b[0;32m    111\u001b[0m             \u001b[0mself\u001b[0m\u001b[1;33m.\u001b[0m\u001b[0m_exclusive_fp\u001b[0m \u001b[1;33m=\u001b[0m \u001b[1;32mTrue\u001b[0m\u001b[1;33m\u001b[0m\u001b[1;33m\u001b[0m\u001b[0m\n",
      "\u001b[1;31mFileNotFoundError\u001b[0m: [Errno 2] No such file or directory: 'C:\\\\Users\\\\PScout\\\\Github\\\\Cell_Recognition_Machine_Learning\\\\publichpa\\\\1876_A7_32_red.png'"
     ]
    },
    {
     "data": {
      "image/png": "[encoded data removed]",
      "text/plain": [
       "<Figure size 1440x3600 with 5 Axes>"
      ]
     },
     "metadata": {
      "needs_background": "light"
     },
     "output_type": "display_data"
    }
   ],
   "source": [
    "# Visualizing the segmentation masks we just predicted above\n",
    "\n",
    "import numpy as np\n",
    "import matplotlib.pyplot as plt\n",
    "\n",
    "fig, ax = plt.subplots(1,5, figsize=(20,50))\n",
    "for i in range(5):\n",
    "    microtubule = plt.imread(mt[i])    \n",
    "    endoplasmicrec = plt.imread(er[i])    \n",
    "    nuclei = plt.imread(nu[i])\n",
    "    \n",
    "    \n",
    "    mask = plt.imread(mt[i].replace('red','predictedmask'))\n",
    "    img = np.dstack((microtubule, endoplasmicrec, nuclei))\n",
    "    \n",
    "    ax[i].imshow(img)\n",
    "    ax[i].imshow(mask, alpha=0.5)\n",
    "    ax[i].axis('off')\n",
    "plt.show()"
   ]
  },
  {
   "cell_type": "code",
   "execution_count": null,
   "id": "prescription-reservation",
   "metadata": {},
   "outputs": [],
   "source": []
  }
 ],
 "metadata": {
  "kernelspec": {
   "display_name": "Python 3",
   "language": "python",
   "name": "python3"
  },
  "language_info": {
   "codemirror_mode": {
    "name": "ipython",
    "version": 3
   },
   "file_extension": ".py",
   "mimetype": "text/x-python",
   "name": "python",
   "nbconvert_exporter": "python",
   "pygments_lexer": "ipython3",
   "version": "3.8.8"
  }
 },
 "nbformat": 4,
 "nbformat_minor": 5
}
